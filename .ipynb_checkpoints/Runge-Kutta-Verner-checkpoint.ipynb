{
 "cells": [
  {
   "cell_type": "code",
   "execution_count": 1,
   "metadata": {},
   "outputs": [],
   "source": [
    "import numpy as np"
   ]
  },
  {
   "cell_type": "code",
   "execution_count": 2,
   "metadata": {},
   "outputs": [],
   "source": [
    "def df(t, y):\n",
    "    return y / t - (y / t)**2"
   ]
  },
  {
   "cell_type": "code",
   "execution_count": 3,
   "metadata": {},
   "outputs": [],
   "source": [
    "h = 0.5\n",
    "t = np.arange(1, 4.04, h)\n",
    "l = t.shape[0]\n",
    "y = [1 for _ in t]\n",
    "w = [1 for _ in t]\n",
    "for i in range(l - 1):\n",
    "    ti = t[i]\n",
    "    yi = y[i]\n",
    "    k1 = h * df(ti, yi)\n",
    "    k2 = h * df(ti+h/6, yi+k1/6)\n",
    "    k3 = h * df(ti+4*h/15, yi+4*k1/75+16*k2/75)\n",
    "    k4 = h * df(ti+2*h/3, yi+5*k1/6-8*k2/3+5*k3/2)\n",
    "    k5 = h * df(ti+5*h/6, yi-165*k1/64+55*k2/6-425*k3/64+85*k4/96)\n",
    "    k6 = h * df(ti+h, yi+12*k1/5-8*k2+4015*k3/612-11*k4/36+88*k5/255)\n",
    "    k7 = h * df(ti+h/15, yi-8263/15000*k1+124/75*k2-643/680*k3-81/250*k4+2484/10625*k5)\n",
    "    k8 = h * df(ti+h, yi+3501/1720*k1-300/43*k2+297275/52632*k3-319/2322*k4+24068/84065*k5+3850/26703*k7)\n",
    "    y[i+1] = yi+13/160*k1+2375/5984*k3+5/16*k4+12/85*k5+3/44*k6\n",
    "    w[i+1] = yi+3/40*k1+875/2244*k3+23/72*k4+264/1955*k5+125/11592*k7+43/616*k8\n"
   ]
  },
  {
   "cell_type": "code",
   "execution_count": 4,
   "metadata": {},
   "outputs": [],
   "source": [
    "y = np.array(y)\n",
    "w = np.array(w)\n",
    "delta = max(w - y)"
   ]
  },
  {
   "cell_type": "code",
   "execution_count": 5,
   "metadata": {},
   "outputs": [
    {
     "data": {
      "text/plain": [
       "2.1515966786012086e-10"
      ]
     },
     "execution_count": 5,
     "metadata": {},
     "output_type": "execute_result"
    }
   ],
   "source": [
    "delta"
   ]
  },
  {
   "cell_type": "code",
   "execution_count": null,
   "metadata": {},
   "outputs": [],
   "source": []
  }
 ],
 "metadata": {
  "kernelspec": {
   "display_name": "Python 3",
   "language": "python",
   "name": "python3"
  },
  "language_info": {
   "codemirror_mode": {
    "name": "ipython",
    "version": 3
   },
   "file_extension": ".py",
   "mimetype": "text/x-python",
   "name": "python",
   "nbconvert_exporter": "python",
   "pygments_lexer": "ipython3",
   "version": "3.8.0"
  }
 },
 "nbformat": 4,
 "nbformat_minor": 2
}
