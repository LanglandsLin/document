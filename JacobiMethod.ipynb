{
 "cells": [
  {
   "cell_type": "code",
   "execution_count": 1,
   "metadata": {},
   "outputs": [],
   "source": [
    "import numpy as np"
   ]
  },
  {
   "cell_type": "code",
   "execution_count": 2,
   "metadata": {},
   "outputs": [],
   "source": [
    "A = np.array([[5,-1,0,0,0],\n",
    "                 [-1,4.5,0.2,0,0],\n",
    "                 [0,0.2,1,-0.4,0],\n",
    "                 [0,0,-0.4,3,1],\n",
    "                 [0,0,0,1,3]])\n",
    "shape = A.shape"
   ]
  },
  {
   "cell_type": "code",
   "execution_count": 3,
   "metadata": {},
   "outputs": [],
   "source": [
    "def findRotationMatrix(j, k):\n",
    "    if A[j][j] != A[k][k]:\n",
    "        c = 2*A[j][k]*np.sign(A[j][j]-A[k][k])\n",
    "        b = np.abs(A[j][j]-A[k][k])\n",
    "        p[j][j] = np.sqrt(0.5*(1+b/(np.sqrt(c*c+b*b))))\n",
    "        p[k][k] = p[j][j]\n",
    "        p[k][j] = c/(2*p[j][j]*np.sqrt(c*c+b*b))\n",
    "        p[j][k] = -p[k][j]\n",
    "    else:\n",
    "        p[j][j] = np.sqrt(2)/2\n",
    "        p[k][k] = np.sqrt(2)/2\n",
    "        p[k][j] = np.sqrt(2)/2\n",
    "        p[j][k] = -np.sqrt(2)/2"
   ]
  },
  {
   "cell_type": "code",
   "execution_count": 4,
   "metadata": {},
   "outputs": [],
   "source": [
    "for j in range(shape[0]):\n",
    "    for k in range(j):\n",
    "        while np.abs(A[j][k]) > 1e-3:\n",
    "            p = np.eye(shape[0])\n",
    "            findRotationMatrix(j, k)\n",
    "            A = np.dot(np.dot(p, A), p.T)"
   ]
  },
  {
   "cell_type": "code",
   "execution_count": 5,
   "metadata": {},
   "outputs": [
    {
     "data": {
      "text/plain": [
       "array([[ 1.        ,  0.        ,  0.        ,  0.        ,  0.        ],\n",
       "       [ 0.        ,  1.        ,  0.        ,  0.        ,  0.        ],\n",
       "       [ 0.        ,  0.        ,  0.70716342,  0.        ,  0.70705014],\n",
       "       [ 0.        ,  0.        ,  0.        ,  1.        ,  0.        ],\n",
       "       [ 0.        ,  0.        , -0.70705014,  0.        ,  0.70716342]])"
      ]
     },
     "execution_count": 5,
     "metadata": {},
     "output_type": "execute_result"
    }
   ],
   "source": [
    "p"
   ]
  },
  {
   "cell_type": "code",
   "execution_count": 6,
   "metadata": {},
   "outputs": [
    {
     "data": {
      "text/plain": [
       "array([[ 2.05538187e+00,  4.79552141e-03,  1.35197912e-01,\n",
       "        -1.61094116e-02,  1.54849292e-02],\n",
       "       [ 4.79552141e-03,  4.02659552e+00, -4.22906508e-04,\n",
       "         1.16220809e-02, -1.64811802e-02],\n",
       "       [ 1.35197912e-01, -4.22906508e-04,  9.08910184e-01,\n",
       "        -1.21354778e-01, -4.51705022e-04],\n",
       "       [-1.61094116e-02,  1.16220809e-02, -1.21354778e-01,\n",
       "         5.78079617e+00, -1.20263967e-04],\n",
       "       [ 1.54849292e-02, -1.64811802e-02, -4.51705022e-04,\n",
       "        -1.20263967e-04,  3.72831627e+00]])"
      ]
     },
     "execution_count": 6,
     "metadata": {},
     "output_type": "execute_result"
    }
   ],
   "source": [
    "A"
   ]
  },
  {
   "cell_type": "code",
   "execution_count": 7,
   "metadata": {},
   "outputs": [
    {
     "data": {
      "text/plain": [
       "[2.0553818656899807,\n",
       " 4.026595517677847,\n",
       " 0.9089101840982177,\n",
       " 5.780796167041219,\n",
       " 3.7283162654926256]"
      ]
     },
     "execution_count": 7,
     "metadata": {},
     "output_type": "execute_result"
    }
   ],
   "source": [
    "[A[i][i] for i in range(shape[0])]"
   ]
  }
 ],
 "metadata": {
  "kernelspec": {
   "display_name": "Python 3",
   "language": "python",
   "name": "python3"
  },
  "language_info": {
   "codemirror_mode": {
    "name": "ipython",
    "version": 3
   },
   "file_extension": ".py",
   "mimetype": "text/x-python",
   "name": "python",
   "nbconvert_exporter": "python",
   "pygments_lexer": "ipython3",
   "version": "3.8.0"
  }
 },
 "nbformat": 4,
 "nbformat_minor": 2
}
